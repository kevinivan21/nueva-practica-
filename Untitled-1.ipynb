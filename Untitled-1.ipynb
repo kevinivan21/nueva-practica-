{
 "cells": [
  {
   "cell_type": "markdown",
   "metadata": {},
   "source": [
    "Problema 1.\n",
    "En una celda pide lo siguiente\n",
    "1. ¿Que fecha es hoy?\n",
    "2. ¿En que fecha naciste?\n",
    "En otra celda \n",
    "determina si es tu cumpleaños o no\n"
   ]
  },
  {
   "cell_type": "code",
   "execution_count": null,
   "metadata": {},
   "outputs": [],
   "source": [
    "fechah = input(\"¿Qué fecha es la de hoy? (00/00/): \")\n",
    "fechan = input(\"¿En qué fecha naciste? (00/00/): \")\n",
    "if fechah == fechan:\n",
    "    print(\"¡Feliz cumpleaños!!!!! \")\n",
    "else:\n",
    "    print(\"Hoy no es tu cumpleaños.\")"
   ]
  },
  {
   "cell_type": "markdown",
   "metadata": {},
   "source": [
    "Problema 2\n",
    "En una celda \n",
    "1. Pide un numero \n",
    "2. Pide otro numero\n",
    "Realiza operaciones para que tengan el mismo valor ejemplo:\n",
    "Valor= 1\n",
    "Valor=2\n",
    "1*5  = 2+3"
   ]
  },
  {
   "cell_type": "code",
   "execution_count": 5,
   "metadata": {},
   "outputs": [
    {
     "name": "stdout",
     "output_type": "stream",
     "text": [
      "{n1}*5 = {resn1}\n",
      "{n2}+3 = {resn2}\n",
      "los resultados son diferentes\n"
     ]
    }
   ],
   "source": [
    "num1 = int(input(\"porfavor ingrese el primer numero: \"))\n",
    "num2 = int(input(\"porfavor ingrese el segundo numero: \"))\n",
    "resn1 = n1 * 5\n",
    "resn2 = n2 + 3\n",
    "print (f\"{n1}*5 = {resn1}\")\n",
    "print (f\"{n2}+3 = {resn2}\")\n",
    "if resn1 == resn2:\n",
    "    print (\"los resultados son iguales\")\n",
    "else:\n",
    "    print (\"el resultados es diferente\")\n"
   ]
  },
  {
   "cell_type": "markdown",
   "metadata": {},
   "source": [
    "Problema 3\n",
    "En una celda solicita:\n",
    "1. Pide el codigo postal \n",
    "2. Con ese codigo postal determina si esta dentro del rango de entrega\n",
    "si su codigo esta entre 50000 y 50030 esta dentro del rango de entrega y puedes enviarle cosas, asi que publica un mensaje con ello, en caso contrario coloca un emoji triste y dile que no puedes entregarle nada\n",
    "\n"
   ]
  },
  {
   "cell_type": "code",
   "execution_count": 5,
   "metadata": {},
   "outputs": [
    {
     "name": "stdout",
     "output_type": "stream",
     "text": [
      "Tu código postal está dentro del rango de entrega \n"
     ]
    }
   ],
   "source": [
    "codipos = input(\"ingresa tu código postal: \")\n",
    "codipos = int(codipos)\n",
    "if 50000 <= codipos <= 50030:\n",
    "    print(\"Tu código postal está dentro del rango de entrega \")\n",
    "else:\n",
    "    print(\"tu código postal no está dentro denuestro rango de entrega \")\n"
   ]
  }
 ],
 "metadata": {
  "kernelspec": {
   "display_name": "Python 3",
   "language": "python",
   "name": "python3"
  },
  "language_info": {
   "codemirror_mode": {
    "name": "ipython",
    "version": 3
   },
   "file_extension": ".py",
   "mimetype": "text/x-python",
   "name": "python",
   "nbconvert_exporter": "python",
   "pygments_lexer": "ipython3",
   "version": "3.11.3"
  }
 },
 "nbformat": 4,
 "nbformat_minor": 2
}
